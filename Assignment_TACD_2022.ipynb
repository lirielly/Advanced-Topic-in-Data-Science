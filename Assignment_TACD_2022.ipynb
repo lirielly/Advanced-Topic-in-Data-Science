{
  "cells": [
    {
      "cell_type": "markdown",
      "id": "294e8098",
      "metadata": {
        "id": "294e8098"
      },
      "source": [
        "## Import Libraries"
      ]
    },
    {
      "cell_type": "code",
      "execution_count": null,
      "id": "836e2f82",
      "metadata": {
        "id": "836e2f82"
      },
      "outputs": [],
      "source": [
        "# Import libraries\n",
        "import numpy as np\n",
        "import pandas as pd\n",
        "import re\n",
        "import urllib.request as urllib2\n",
        "from requests import get\n",
        "from tqdm import tqdm\n",
        "\n",
        "pd.set_option('display.max_colwidth', None)"
      ]
    },
    {
      "cell_type": "code",
      "execution_count": null,
      "id": "859aad33",
      "metadata": {
        "id": "859aad33"
      },
      "outputs": [],
      "source": [
        "df = pd.read_csv(\"FN-Dataset-18k.csv\", encoding=\"utf-8\")"
      ]
    },
    {
      "cell_type": "code",
      "execution_count": null,
      "id": "c8c90f81",
      "metadata": {
        "id": "c8c90f81"
      },
      "outputs": [],
      "source": [
        "#df[\"emoji\"] = df[\"description\"].apply(lambda x: adv.extract_emoji(x)['emoji_flat'])\n",
        "#df[\"emoji_name\"] = df[\"description\"].apply(lambda x: adv.extract_emoji(x)['emoji_flat_text'])"
      ]
    },
    {
      "cell_type": "code",
      "execution_count": null,
      "id": "72ddd165",
      "metadata": {
        "id": "72ddd165"
      },
      "outputs": [],
      "source": [
        "df[\"url\"] = df[\"description\"].apply(lambda x: re.findall('http[s]?://(?:[a-zA-Z]|[0-9]|[$-_@.&+]|[!*\\(\\),]|(?:%[0-9a-fA-F][0-9a-fA-F]))+', x))"
      ]
    },
    {
      "cell_type": "code",
      "execution_count": null,
      "id": "e7a63991",
      "metadata": {
        "id": "e7a63991"
      },
      "outputs": [],
      "source": [
        "df[\"url_new\"] = \"\""
      ]
    },
    {
      "cell_type": "code",
      "source": [
        "for i in tqdm(range(df.shape[0])):\n",
        "  for j in range(len(df.iloc[i, 11])):\n",
        "    if j == 0:\n",
        "      try:\n",
        "        df.iloc[i, 12] = get(df.iloc[i, 11][j], timeout=(30)).url\n",
        "      except:\n",
        "        pass\n",
        "    else:\n",
        "      try:\n",
        "        df.iloc[i, 12] = df.iloc[i, 12] + \", \" + get(df.iloc[i, 11][j], timeout=(30)).url\n",
        "      except:\n",
        "        pass"
      ],
      "metadata": {
        "colab": {
          "base_uri": "https://localhost:8080/"
        },
        "id": "h2GOiYe7hKAw",
        "outputId": "43b09671-3d42-4a55-da04-ceadc954f023"
      },
      "id": "h2GOiYe7hKAw",
      "execution_count": null,
      "outputs": [
        {
          "output_type": "stream",
          "name": "stderr",
          "text": [
            "100%|██████████| 17800/17800 [8:59:14<00:00,  1.82s/it]\n"
          ]
        }
      ]
    },
    {
      "cell_type": "code",
      "execution_count": null,
      "id": "00da110e",
      "metadata": {
        "id": "00da110e"
      },
      "outputs": [],
      "source": [
        "df.to_csv(\"FN-Dataset-18k_Urls.csv\", sep=\";\")"
      ]
    }
  ],
  "metadata": {
    "colab": {
      "collapsed_sections": [],
      "name": "Assignment_TACD_2022.ipynb",
      "provenance": []
    },
    "interpreter": {
      "hash": "227810d4ac055f751e83c95e9baacc2bfb84a30a3665ddf221016602ee7887b5"
    },
    "kernelspec": {
      "display_name": "Python 3 (ipykernel)",
      "language": "python",
      "name": "python3"
    },
    "language_info": {
      "codemirror_mode": {
        "name": "ipython",
        "version": 3
      },
      "file_extension": ".py",
      "mimetype": "text/x-python",
      "name": "python",
      "nbconvert_exporter": "python",
      "pygments_lexer": "ipython3",
      "version": "3.9.7"
    }
  },
  "nbformat": 4,
  "nbformat_minor": 5
}